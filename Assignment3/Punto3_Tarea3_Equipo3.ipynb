{
 "cells": [
  {
   "cell_type": "markdown",
   "metadata": {
    "id": "AqIp53VG0lVg"
   },
   "source": [
    "\n",
    "- File name: Punto3_Tarea3_Equipo3.ipynb\n",
    "- Author: Maria Paula Rey\n",
    "- Date last modified: 22/10/2021\n",
    "- Python Version: 3.8\n"
   ]
  },
  {
   "cell_type": "markdown",
   "metadata": {
    "id": "lMEipgmFY7t_"
   },
   "source": [
    "# PUNTO 3\n",
    "\n",
    "Primero debemos importar las librerías necesarias."
   ]
  },
  {
   "cell_type": "code",
   "execution_count": null,
   "metadata": {
    "id": "H5x5JbZlXv-L"
   },
   "outputs": [],
   "source": [
    "from sympy import zeros\n",
    "import numpy as np\n",
    "import matplotlib.pyplot as plt\n",
    "from sympy import *\n",
    "from sympy import plotting\n",
    "import sympy as sym \n",
    "\n",
    "%matplotlib notebook\n",
    "init_printing()"
   ]
  },
  {
   "cell_type": "markdown",
   "metadata": {
    "id": "Df5cK26oX5mb"
   },
   "source": [
    "Ahora definimos la función $f(x)$ que va a ser la carga de la ecuación diferencial,\n",
    "\n",
    "$$\\frac{d^2u}{dx^2} = f(x) $$\n",
    "\n",
    "con condiciones de frontera $u(0)=u(1)=0$\n",
    "\n"
   ]
  },
  {
   "cell_type": "code",
   "execution_count": null,
   "metadata": {
    "id": "1K7QNM3PYtuw"
   },
   "outputs": [],
   "source": [
    "def f(x):\n",
    "    return 3#x*(1-x)"
   ]
  },
  {
   "cell_type": "markdown",
   "metadata": {
    "id": "cJ2NBDlJZCfY"
   },
   "source": [
    "## Hallando la matriz de carga $K^{(e)}$\n",
    "\n",
    "Para esto se utilizan las funciones base $\\phi_0$, $\\phi_1$ y $\\phi_2$, cada una respectiva a cada nodo del elemento cuadrático. "
   ]
  },
  {
   "cell_type": "code",
   "execution_count": null,
   "metadata": {
    "colab": {
     "base_uri": "https://localhost:8080/",
     "height": 112
    },
    "id": "_KVACTVaZflO",
    "outputId": "7307c70a-5f21-4db0-defb-27362988f58f"
   },
   "outputs": [
    {
     "data": {
      "image/png": "[encoded data removed]",
      "text/latex": [
       "$\\displaystyle \\frac{r^{2}}{2} - \\frac{r}{2}$"
      ],
      "text/plain": [
       " 2    \n",
       "r    r\n",
       "── - ─\n",
       "2    2"
      ]
     },
     "metadata": {},
     "output_type": "display_data"
    },
    {
     "data": {
      "image/png": "[encoded data removed]",
      "text/latex": [
       "$\\displaystyle 1 - r^{2}$"
      ],
      "text/plain": [
       "     2\n",
       "1 - r "
      ]
     },
     "metadata": {},
     "output_type": "display_data"
    },
    {
     "data": {
      "image/png": "[encoded data removed]",
      "text/latex": [
       "$\\displaystyle \\frac{r^{2}}{2} + \\frac{r}{2}$"
      ],
      "text/plain": [
       " 2    \n",
       "r    r\n",
       "── + ─\n",
       "2    2"
      ]
     },
     "metadata": {},
     "output_type": "display_data"
    }
   ],
   "source": [
    "# Creando las variables para los calculos\n",
    "x,r,h,x0 = symbols(\"x r h x0\")\n",
    "\n",
    "phi_0 = r*(r-1)/2\n",
    "phi_1 = -(r+1)*(r-1)\n",
    "phi_2 = r*(r+1)/2\n",
    "\n",
    "phi_s = Matrix([phi_0, phi_1, phi_2])\n",
    "xs = transpose(Matrix([x0, x0+h/2, x0+h]))\n",
    "\n",
    "for phi in phi_s:\n",
    "    display(expand(phi))"
   ]
  },
  {
   "cell_type": "markdown",
   "metadata": {
    "id": "UwvMPl3XZ1Pc"
   },
   "source": [
    "Ahora procedemeos a hallar $X(r)$ y a derivar respecto a $r$ para hallar el jacobiano $J$."
   ]
  },
  {
   "cell_type": "code",
   "execution_count": null,
   "metadata": {
    "colab": {
     "base_uri": "https://localhost:8080/",
     "height": 73
    },
    "id": "oY-mOhHmZ9zK",
    "outputId": "60c483d5-16d9-4cc8-f7bf-0d9eef1667b6"
   },
   "outputs": [
    {
     "data": {
      "text/latex": [
       "$\\displaystyle \\left[\\begin{matrix}\\frac{h r}{2} + \\frac{h}{2} + x_{0}\\end{matrix}\\right]$"
      ],
      "text/plain": [
       "⎡h⋅r   h     ⎤\n",
       "⎢─── + ─ + x₀⎥\n",
       "⎣ 2    2     ⎦"
      ]
     },
     "metadata": {},
     "output_type": "display_data"
    },
    {
     "data": {
      "image/png": "[encoded data removed]",
      "text/latex": [
       "$\\displaystyle \\frac{h}{2}$"
      ],
      "text/plain": [
       "h\n",
       "─\n",
       "2"
      ]
     },
     "metadata": {},
     "output_type": "display_data"
    }
   ],
   "source": [
    "X = xs*phi_s\n",
    "X = simplify(X)\n",
    "display(X)\n",
    "J = diff(X,r) # J = dx/dr\n",
    "J = J[0]\n",
    "display(J)"
   ]
  },
  {
   "cell_type": "markdown",
   "metadata": {
    "id": "GlTXj57saE20"
   },
   "source": [
    "Dado que el elemento $k_{i,j}$ de la matriz local es $\\int\\limits_\\Omega \\phi_i' \\phi_j' \\mathrm{d}\\Omega\\,$, se calculan las derivadas de las funciones base."
   ]
  },
  {
   "cell_type": "code",
   "execution_count": null,
   "metadata": {
    "colab": {
     "base_uri": "https://localhost:8080/",
     "height": 38
    },
    "id": "WZt846pzaGiV",
    "outputId": "11f2a7b0-f969-4736-b8eb-b4cd393f0422"
   },
   "outputs": [
    {
     "data": {
      "text/latex": [
       "$\\displaystyle \\left[\\begin{matrix}\\frac{2 r - 1}{h} & - \\frac{4 r}{h} & \\frac{2 r + 1}{h}\\end{matrix}\\right]$"
      ],
      "text/plain": [
       "⎡2⋅r - 1  -4⋅r   2⋅r + 1⎤\n",
       "⎢───────  ─────  ───────⎥\n",
       "⎣   h       h       h   ⎦"
      ]
     },
     "execution_count": 6,
     "metadata": {},
     "output_type": "execute_result"
    }
   ],
   "source": [
    "dphi_s = Matrix([simplify(J**-1*diff(phi_s[i],r)) for i in range(3)])\n",
    "dphi_sT = transpose(dphi_s)\n",
    "dphi_sT"
   ]
  },
  {
   "cell_type": "markdown",
   "metadata": {
    "id": "-ObH1jKXaPaH"
   },
   "source": [
    "Finalmente se puene hallar la matriz $K^{(e)}$ elemental/de cada elemento:"
   ]
  },
  {
   "cell_type": "code",
   "execution_count": null,
   "metadata": {
    "colab": {
     "base_uri": "https://localhost:8080/",
     "height": 78
    },
    "id": "66Kvq_fLaSxf",
    "outputId": "796ca532-ceaa-491d-e269-12cb28778fda"
   },
   "outputs": [
    {
     "data": {
      "text/latex": [
       "$\\displaystyle \\frac{1}{h} \\left[\\begin{matrix}\\frac{7}{3} & - \\frac{8}{3} & \\frac{1}{3}\\\\- \\frac{8}{3} & \\frac{16}{3} & - \\frac{8}{3}\\\\\\frac{1}{3} & - \\frac{8}{3} & \\frac{7}{3}\\end{matrix}\\right]$"
      ],
      "text/plain": [
       "  ⎡7/3   -8/3  1/3 ⎤\n",
       "1 ⎢                ⎥\n",
       "─⋅⎢-8/3  16/3  -8/3⎥\n",
       "h ⎢                ⎥\n",
       "  ⎣1/3   -8/3  7/3 ⎦"
      ]
     },
     "execution_count": 7,
     "metadata": {},
     "output_type": "execute_result"
    }
   ],
   "source": [
    "A = zeros(3,3)\n",
    "A = integrate(dphi_s*dphi_sT*J, (r,-1,1))\n",
    "MatMul(gcd(tuple(A)),(A/gcd(tuple(A))), evaluate=False)"
   ]
  },
  {
   "cell_type": "markdown",
   "metadata": {
    "id": "LSwl4mwia1RV"
   },
   "source": [
    "## Hallando el vector de carga local\n",
    "\n",
    "Para hallar el vector de carga local $c^{(e)}$, se necesitan saber primero los números de elementos a usar para así poder evaluar $f(x)$ en cada nodo:"
   ]
  },
  {
   "cell_type": "code",
   "execution_count": null,
   "metadata": {
    "id": "sCs1zCyTa4q1"
   },
   "outputs": [],
   "source": [
    "n_elem = 5"
   ]
  },
  {
   "cell_type": "markdown",
   "metadata": {
    "id": "CCOtKRrrbCfP"
   },
   "source": [
    "Después se calcula el número de nodos y su espaciamiento"
   ]
  },
  {
   "cell_type": "code",
   "execution_count": null,
   "metadata": {
    "id": "Aw8eRQxVbG5W"
   },
   "outputs": [],
   "source": [
    "n_node = 2*n_elem+1\n",
    "dx = 1/(2*n_elem)"
   ]
  },
  {
   "cell_type": "markdown",
   "metadata": {
    "id": "xgf1qwTvbMbr"
   },
   "source": [
    "Finalmente calculamos $c^{(e)}$ elemental/para cada elemento"
   ]
  },
  {
   "cell_type": "code",
   "execution_count": null,
   "metadata": {
    "colab": {
     "base_uri": "https://localhost:8080/"
    },
    "id": "v1BKx-OJbNBt",
    "outputId": "c36867e2-0831-4534-8cbc-083097910e3d"
   },
   "outputs": [
    {
     "name": "stdout",
     "output_type": "stream",
     "text": [
      "[[0.10000017 0.10000017 0.10000017 0.10000017 0.10000017]\n",
      " [0.39999997 0.39999997 0.39999997 0.39999997 0.39999997]\n",
      " [0.10000017 0.10000017 0.10000017 0.10000017 0.10000017]]\n",
      "Cada columna representa el vector de carga de cada elemento.\n"
     ]
    }
   ],
   "source": [
    "#Pesos y puntos de Gauss\n",
    "\n",
    "#xi = [-np.sqrt(3/7-2/7*np.sqrt(1.2)), np.sqrt(3/7-2/7*np.sqrt(1.2)),\n",
    "#      -np.sqrt(3/7+2/7*np.sqrt(1.2)), np.sqrt(3/7+2/7*np.sqrt(1.2))]\n",
    "xi = np.array([-0.774597, 0, 0.774597])\n",
    "\n",
    "#wi = [(18+np.sqrt(30))/36,(18+np.sqrt(30))/36,\n",
    "#      (18-np.sqrt(30))/36,(18-np.sqrt(30))/36]\n",
    "wi = np.array([0.555556, 0.888889, 0.555556])\n",
    "\n",
    "c_loc = np.zeros((3,n_elem))                                   # B local\n",
    " \n",
    "## Calcular c_loc popr medio de la cuadratura de gauss\n",
    "detJ = N(J.subs({'h':2*dx}))                                   # Reemplazar valores ya conocidos\n",
    "X = X.subs({'h':2*dx})\n",
    "\n",
    "for i in range(n_elem):                                        # Recorrer cada elemento\n",
    "    for j in range(3):                                         # Recorrer cada phi\n",
    "        sum_ = 0\n",
    "        for k,rk in enumerate(xi):                             # Recorrer cada punto de la cuadratura\n",
    "            aux = np.array(X.subs({'x0':2*i*dx,'r':rk})[0],dtype='float64')\n",
    "            sum_ += phi_s[j].subs({'r':rk})*wi[k]*f(aux)\n",
    "        c_loc[j,i] = detJ*sum_\n",
    "print(c_loc)\n",
    "print('Cada columna representa el vector de carga de cada elemento.')"
   ]
  },
  {
   "cell_type": "markdown",
   "metadata": {
    "id": "awvjhR2mbqiO"
   },
   "source": [
    "Ya conocemos el espaciamiento de cada nodo, entonces podemos determinar el valor numérico de la matriz $K^{(e)}$:"
   ]
  },
  {
   "cell_type": "code",
   "execution_count": null,
   "metadata": {
    "colab": {
     "base_uri": "https://localhost:8080/"
    },
    "id": "-Kxh7GdGbxPR",
    "outputId": "78818c49-bc97-4a14-bcfb-669f58c17b7d"
   },
   "outputs": [
    {
     "data": {
      "text/plain": [
       "array([[-11.66666667,  13.33333333,  -1.66666667],\n",
       "       [ 13.33333333, -26.66666667,  13.33333333],\n",
       "       [ -1.66666667,  13.33333333, -11.66666667]])"
      ]
     },
     "execution_count": 11,
     "metadata": {},
     "output_type": "execute_result"
    }
   ],
   "source": [
    "K_loc = -np.array(N(A.subs({'h':2*dx})), dtype='float64')\n",
    "K_loc"
   ]
  },
  {
   "cell_type": "markdown",
   "metadata": {
    "id": "6FtmM-uWdavI"
   },
   "source": [
    "Finalmente se crean dos funciones que ensamblan las matriz global $C^G$ siguiendo la numeración local de cada nodo:"
   ]
  },
  {
   "cell_type": "code",
   "execution_count": null,
   "metadata": {
    "id": "Ry6DY3pKdhIN"
   },
   "outputs": [],
   "source": [
    "# Funciones para ensamblar C_G\n",
    "def reordenar_vector(v,num_Local=[0,2,1]):\n",
    "    return v[num_Local]\n",
    "\n",
    "def ensamblar_C_global(c_local, Nx, num_Loc=[0,1,2]):\n",
    "    \n",
    "    C_g = np.zeros((Nx,1))\n",
    "    \n",
    "    # Nos interesa el numero de elementos y el numero de nodos por elemento\n",
    "    n, nElm = c_local.shape\n",
    "    for i in range(nElm):\n",
    "        \n",
    "        c = reordenar_vector(c_local[:,i],num_Loc)\n",
    "        aux = C_g[i*(n-1):i*(n-1)+n] + np.reshape(c,(n,1))\n",
    "        C_g[i*(n-1):i*(n-1)+n] = aux\n",
    "    return C_g"
   ]
  },
  {
   "cell_type": "markdown",
   "metadata": {
    "id": "K3i09i7zjj6p"
   },
   "source": [
    "Y otras dos funciones para ensamblar la matriz global $K^G$ siguiendo la numeración local de cada nodo:"
   ]
  },
  {
   "cell_type": "code",
   "execution_count": null,
   "metadata": {
    "id": "ZC1joUsBjqMW"
   },
   "outputs": [],
   "source": [
    "\n",
    "# Algoritmos para ensamblar K_G\n",
    "def reordenar_matriz(m, num_Local=[0, 2, 1]):\n",
    "  return m[num_Local][:,num_Local]\n",
    "\n",
    "def ensamblar_K_global(k_Loc, Nx, num_Loc=[0,1,2]):\n",
    "    # Matriz K global\n",
    "    K_g = np.zeros((Nx,Nx))\n",
    "    \n",
    "    # Como es una matriz cuadrada cogemos cualquier dimension\n",
    "    n = k_Loc.shape[1]\n",
    "    \n",
    "    m = reordenar_matriz(k_Loc, num_Loc)\n",
    "    \n",
    "    for i in range(0, Nx-1,n-1):\n",
    "        K_g[i:i+n,i:i+n] += m\n",
    "    return K_g"
   ]
  },
  {
   "cell_type": "markdown",
   "metadata": {
    "id": "sle18JEUeXel"
   },
   "source": [
    "Entonces la matriz de carga global $K^G$ es:"
   ]
  },
  {
   "cell_type": "code",
   "execution_count": null,
   "metadata": {
    "colab": {
     "base_uri": "https://localhost:8080/"
    },
    "id": "UiHRfkxBee4O",
    "outputId": "9e9ffd92-d899-4595-a390-3c3bc46cc0cc"
   },
   "outputs": [
    {
     "name": "stdout",
     "output_type": "stream",
     "text": [
      "K_G = [[-11.66666667  13.33333333  -1.66666667   0.           0.\n",
      "    0.           0.           0.           0.           0.\n",
      "    0.        ]\n",
      " [ 13.33333333 -26.66666667  13.33333333   0.           0.\n",
      "    0.           0.           0.           0.           0.\n",
      "    0.        ]\n",
      " [ -1.66666667  13.33333333 -23.33333333  13.33333333  -1.66666667\n",
      "    0.           0.           0.           0.           0.\n",
      "    0.        ]\n",
      " [  0.           0.          13.33333333 -26.66666667  13.33333333\n",
      "    0.           0.           0.           0.           0.\n",
      "    0.        ]\n",
      " [  0.           0.          -1.66666667  13.33333333 -23.33333333\n",
      "   13.33333333  -1.66666667   0.           0.           0.\n",
      "    0.        ]\n",
      " [  0.           0.           0.           0.          13.33333333\n",
      "  -26.66666667  13.33333333   0.           0.           0.\n",
      "    0.        ]\n",
      " [  0.           0.           0.           0.          -1.66666667\n",
      "   13.33333333 -23.33333333  13.33333333  -1.66666667   0.\n",
      "    0.        ]\n",
      " [  0.           0.           0.           0.           0.\n",
      "    0.          13.33333333 -26.66666667  13.33333333   0.\n",
      "    0.        ]\n",
      " [  0.           0.           0.           0.           0.\n",
      "    0.          -1.66666667  13.33333333 -23.33333333  13.33333333\n",
      "   -1.66666667]\n",
      " [  0.           0.           0.           0.           0.\n",
      "    0.           0.           0.          13.33333333 -26.66666667\n",
      "   13.33333333]\n",
      " [  0.           0.           0.           0.           0.\n",
      "    0.           0.           0.          -1.66666667  13.33333333\n",
      "  -11.66666667]]\n"
     ]
    }
   ],
   "source": [
    "K_G = ensamblar_K_global(K_loc, n_node)#, [0,1,2])\n",
    "print('K_G =',K_G)"
   ]
  },
  {
   "cell_type": "markdown",
   "metadata": {
    "id": "1Xomxwd7lwhs"
   },
   "source": [
    "Y el vector de carga global $C^G$ es:"
   ]
  },
  {
   "cell_type": "code",
   "execution_count": null,
   "metadata": {
    "colab": {
     "base_uri": "https://localhost:8080/"
    },
    "id": "LjDg5IYnl0EM",
    "outputId": "1f991a6f-f6e1-47bc-b20e-08a8a500a14c"
   },
   "outputs": [
    {
     "name": "stdout",
     "output_type": "stream",
     "text": [
      "C_G = [[0.10000017]\n",
      " [0.39999997]\n",
      " [0.20000033]\n",
      " [0.39999997]\n",
      " [0.20000033]\n",
      " [0.39999997]\n",
      " [0.20000033]\n",
      " [0.39999997]\n",
      " [0.20000033]\n",
      " [0.39999997]\n",
      " [0.10000017]]\n"
     ]
    }
   ],
   "source": [
    "C_G = ensamblar_C_global(c_loc, n_node)#, [0,1,2])\n",
    "print('C_G =',C_G)"
   ]
  }
 ],
 "metadata": {
  "colab": {
   "collapsed_sections": [],
   "name": "Punto3_Tarea3_Equipo3.ipynb",
   "provenance": []
  },
  "kernelspec": {
   "display_name": "Python 3 (ipykernel)",
   "language": "python",
   "name": "python3"
  },
  "language_info": {
   "codemirror_mode": {
    "name": "ipython",
    "version": 3
   },
   "file_extension": ".py",
   "mimetype": "text/x-python",
   "name": "python",
   "nbconvert_exporter": "python",
   "pygments_lexer": "ipython3",
   "version": "3.8.11"
  }
 },
 "nbformat": 4,
 "nbformat_minor": 1
}
